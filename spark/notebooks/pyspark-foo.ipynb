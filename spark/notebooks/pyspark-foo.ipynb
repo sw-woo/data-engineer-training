{
 "cells": [
  {
   "cell_type": "code",
   "execution_count": 3,
   "metadata": {},
   "outputs": [],
   "source": [
    "from pyspark.sql import SparkSession\n",
    "from pyspark.sql.functions import *\n",
    "\n",
    "spark = SparkSession \\\n",
    "    .builder \\\n",
    "    .config(\"spark.sql.session.timeZone\", \"Asia/Seoul\") \\\n",
    "    .getOrCreate()"
   ]
  },
  {
   "cell_type": "code",
   "execution_count": 13,
   "metadata": {},
   "outputs": [
    {
     "name": "stdout",
     "output_type": "stream",
     "text": [
      "+------+----+------+-----+\n",
      "|Server|Race|Actor |Point|\n",
      "+------+----+------+-----+\n",
      "|1     |천족|Cat   |30   |\n",
      "|1     |천족|Dog   |28   |\n",
      "|1     |마족|Monkey|28   |\n",
      "|1     |마족|Cat   |24   |\n",
      "|1     |마족|Dog   |10   |\n",
      "+------+----+------+-----+\n",
      "\n",
      "+-----------+------+----+------+-----+----+\n",
      "|cat_name   |Server|Race|Actor |Point|rank|\n",
      "+-----------+------+----+------+-----+----+\n",
      "|천족_타이틀|1     |천족|Cat   |30   |1   |\n",
      "|천족_타이틀|1     |천족|Dog   |28   |2   |\n",
      "|마족_타이틀|1     |마족|Monkey|28   |1   |\n",
      "|마족_타이틀|1     |마족|Cat   |24   |2   |\n",
      "|마족_타이틀|1     |마족|Dog   |10   |3   |\n",
      "+-----------+------+----+------+-----+----+\n",
      "\n"
     ]
    }
   ],
   "source": [
    "spark = SparkSession.builder.appName(\"종족별 랭킹\").getOrCreate()\n",
    "abyss = (spark.createDataFrame([\n",
    "    (1, \"천족\", \"Cat\", 30), \n",
    "    (1, \"천족\", \"Dog\", 28), \n",
    "    (1, \"마족\", \"Monkey\", 28), \n",
    "    (1, \"마족\", \"Cat\", 24), \n",
    "    (1, \"마족\", \"Dog\", 10)\n",
    "], [\"Server\", \"Race\", \"Actor\", \"Point\"]))\n",
    "abyss.show(truncate=False)\n",
    "abyss.createOrReplaceTempView(\"abyss\")\n",
    "\n",
    "# CASE WHEN key = 1 THEN 1 ELSE 2 END\n",
    "light=\"천족_타이틀\"\n",
    "dark=\"마족_타이틀\"\n",
    "res = spark.sql(\"\"\"\n",
    "with ranked_table as ( select *, row_number() over (partition by server, race order by point desc) as rank from abyss)\n",
    "select case when race = '천족' then '{}' else '{}' end as cat_name, * from ranked_table\n",
    "\"\"\".format(light, dark))\n",
    "res.show(truncate=False)"
   ]
  },
  {
   "cell_type": "code",
   "execution_count": null,
   "metadata": {},
   "outputs": [],
   "source": []
  }
 ],
 "metadata": {
  "kernelspec": {
   "display_name": "Python 3",
   "language": "python",
   "name": "python3"
  },
  "language_info": {
   "codemirror_mode": {
    "name": "ipython",
    "version": 3
   },
   "file_extension": ".py",
   "mimetype": "text/x-python",
   "name": "python",
   "nbconvert_exporter": "python",
   "pygments_lexer": "ipython3",
   "version": "3.8.6"
  }
 },
 "nbformat": 4,
 "nbformat_minor": 4
}
