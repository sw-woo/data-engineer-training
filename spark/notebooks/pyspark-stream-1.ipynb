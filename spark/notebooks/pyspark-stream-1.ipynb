{
 "cells": [
  {
   "cell_type": "markdown",
   "metadata": {},
   "source": [
    "# 스파크 스트리밍 실습 \n",
    "> 파일을 읽어서 파이썬 스트리밍 실습을 합니다\n",
    "\n",
    "## 목표\n",
    "1. 특정 경로에 존재하는 Json 파일을 스트리밍으로 읽는 실습을 수행합니다\n",
    "1. 스트리밍 집계 함수를 실습합니다\n",
    "1. 스트리밍 변환 함수를 실습합니다\n",
    "1. 여러 스트림을 조인하는 연산을 실습합니다\n",
    "1. 이벤트 시간 기준의 텀블링 윈도우 처리 실습\n",
    "1. 워터마크를 이용하여 1분 단위로 접속한 이용자의 수를 가지는 테이블을 구성하고 조회합니다\n",
    "1. UDF 를 이용하여, 워터마크와 윈도우 함수를 이용하여 누적 최고 매출 이용자를 가지는 테이블을 구성하고 조회합니다\n",
    "1. DataFrame 을 이용하여, 동일한 기능을 실습합니다"
   ]
  },
  {
   "cell_type": "code",
   "execution_count": 1,
   "metadata": {},
   "outputs": [],
   "source": [
    "from pyspark.sql import SparkSession\n",
    "from pyspark.sql.functions import *\n",
    "\n",
    "spark = SparkSession.builder.appName(\"foo-bar\") \\\n",
    "    .config(\"spark.sql.session.timeZone\", \"Asia/Seoul\") \\\n",
    "    .config(\"spark.jars.packages\", \"io.delta:delta-core_2.12:0.7.0\") \\\n",
    "    .config(\"spark.sql.extensions\", \"io.delta.sql.DeltaSparkSessionExtension\") \\\n",
    "    .config(\"spark.sql.catalog.spark_catalog\", \"org.apache.spark.sql.delta.catalog.DeltaCatalog\") \\\n",
    "    .getOrCreate()"
   ]
  },
  {
   "cell_type": "markdown",
   "metadata": {},
   "source": [
    "### 스파크 스트리밍 처리에서 자주 활용되는 함수들"
   ]
  },
  {
   "cell_type": "code",
   "execution_count": 2,
   "metadata": {},
   "outputs": [],
   "source": [
    "from random import uniform\n",
    "from time import sleep\n",
    "from IPython.display import display, clear_output\n",
    "# 스트림 테이블을 주기적으로 조회하는 함수\n",
    "def displayStream(name, sql, iterations, sleep_secs):\n",
    "    i = 1\n",
    "    for x in range(iterations):\n",
    "        clear_output(wait=True)\n",
    "        display('[' + name + '] Iteration: '+str(i)+', Score: '+str(uniform(0, 1)))\n",
    "        spark.sql(sql).show(truncate=False)\n",
    "        sleep(sleep_secs)    \n",
    "        i += 1"
   ]
  },
  {
   "cell_type": "code",
   "execution_count": 3,
   "metadata": {},
   "outputs": [],
   "source": [
    "from IPython.display import JSON\n",
    "# 해당 스트리밍 쿼리의 마지막 상태를 확인하는 함수\n",
    "def checkLastProgress(query):\n",
    "    JSON(query.lastProgress)"
   ]
  },
  {
   "cell_type": "code",
   "execution_count": 4,
   "metadata": {},
   "outputs": [],
   "source": [
    "# 해당 스트리밍 쿼리를 재실행 시에, 이미 시작된 쿼리를 사전에 종료하기 위한 함수\n",
    "def stopQueryIfStarted(query):\n",
    "    try:\n",
    "        query.stop()\n",
    "    except:\n",
    "        pass"
   ]
  },
  {
   "cell_type": "code",
   "execution_count": 5,
   "metadata": {},
   "outputs": [],
   "source": [
    "# 테이블 목록 출력\n",
    "def showTables():\n",
    "    spark.sql(\"show tables\").show()"
   ]
  },
  {
   "cell_type": "markdown",
   "metadata": {},
   "source": [
    "## 1. 특정 경로에 존재하는 Json 파일을 읽어서 스트리밍 파이프라인을 구성합니다"
   ]
  },
  {
   "cell_type": "code",
   "execution_count": 6,
   "metadata": {},
   "outputs": [
    {
     "name": "stdout",
     "output_type": "stream",
     "text": [
      "root\n",
      " |-- Arrival_Time: long (nullable = true)\n",
      " |-- Creation_Time: long (nullable = true)\n",
      " |-- Device: string (nullable = true)\n",
      " |-- Index: long (nullable = true)\n",
      " |-- Model: string (nullable = true)\n",
      " |-- User: string (nullable = true)\n",
      " |-- gt: string (nullable = true)\n",
      " |-- x: double (nullable = true)\n",
      " |-- y: double (nullable = true)\n",
      " |-- z: double (nullable = true)\n",
      "\n",
      "+-------------+-------------------+--------+-----+------+----+-----+------------+------------+-----------+\n",
      "|Arrival_Time |Creation_Time      |Device  |Index|Model |User|gt   |x           |y           |z          |\n",
      "+-------------+-------------------+--------+-----+------+----+-----+------------+------------+-----------+\n",
      "|1424686734992|1424688581040070924|nexus4_2|5    |nexus4|g   |stand|-3.814697E-4|0.025878906 |0.023727417|\n",
      "|1424686735190|1424688581245179566|nexus4_2|46   |nexus4|g   |stand|-0.008926392|-0.047821045|0.011978149|\n",
      "+-------------+-------------------+--------+-----+------+----+-----+------------+------------+-----------+\n",
      "only showing top 2 rows\n",
      "\n"
     ]
    }
   ],
   "source": [
    "static = spark.read.json(\"data/activity-data\")\n",
    "dataSchema = static.schema\n",
    "static.printSchema()\n",
    "static.show(2, truncate=False)"
   ]
  },
  {
   "cell_type": "code",
   "execution_count": 7,
   "metadata": {},
   "outputs": [],
   "source": [
    "streaming = spark.readStream.schema(dataSchema) \\\n",
    "    .option(\"maxFilesPerTrigger\", 1).json(\"data/activity-data\")\n",
    "spark.conf.set(\"spark.sql.shuffle.partitions\", 5)  # 로컬 모드에서는 너무 많은 파티션은 오히려 성능을 떨어뜨리므로 셔플 수를 줄입니다"
   ]
  },
  {
   "cell_type": "markdown",
   "metadata": {},
   "source": [
    "## 2. 스트리밍 집계 함수를 실습합니다"
   ]
  },
  {
   "cell_type": "code",
   "execution_count": 8,
   "metadata": {},
   "outputs": [
    {
     "data": {
      "text/plain": [
       "{'message': 'Processing new data',\n",
       " 'isDataAvailable': True,\n",
       " 'isTriggerActive': True}"
      ]
     },
     "execution_count": 8,
     "metadata": {},
     "output_type": "execute_result"
    }
   ],
   "source": [
    "activityCounts = streaming.groupBy(\"gt\").count()  # 스트리밍은 바로 출력 대신에 다른 스트리밍 싱크에 보내기 위한 로직만 먼저 작성합니다\n",
    "\n",
    "# 아래와 같이 \"activity_counts\" 라는 임의의 \"memory\" 테이블에 매번 모든 결과를 \"complete\" 하게 전송하는 activityQuery 를 생성합니다\n",
    "activityQuery = activityCounts.writeStream \\\n",
    "    .queryName(\"activity_counts\") \\\n",
    "    .format(\"memory\") \\\n",
    "    .outputMode(\"complete\") \\\n",
    "    .start()\n",
    "\n",
    "# 상태를 확인하기 위해서 항상 스트리밍 쿼리를 별도의 객체로 만들어 두는 것이 편리합니다.\n",
    "activityQuery.status"
   ]
  },
  {
   "cell_type": "code",
   "execution_count": 9,
   "metadata": {},
   "outputs": [],
   "source": [
    "# 위와 같이 start 한 이후, 백그라운드에서 코드를 수행시키기 위해서 아래와 같이 실행합니다\n",
    "DEBUG = False\n",
    "if DEBUG:\n",
    "    activityQuery.id  # get the unique identifier of the running query that persists across restarts from checkpoint data\n",
    "\n",
    "    activityQuery.runId       # get the unique id of this run of the query, which will be generated at every start/restart\n",
    "\n",
    "    activityQuery.name        # get the name of the auto-generated or user-specified name\n",
    "\n",
    "    activityQuery.explain()   # print detailed explanations of the query\n",
    "\n",
    "    activityQuery.stop()      # stop the query\n",
    "\n",
    "    activityQuery.awaitTermination()   # block until query is terminated, with stop() or with error\n",
    "\n",
    "    activityQuery.exception       # the exception if the query has been terminated with error\n",
    "\n",
    "    activityQuery.recentProgress  # an array of the most recent progress updates for this query\n",
    "\n",
    "    activityQuery.lastProgress    # the most recent progress update of this streaming query\n"
   ]
  },
  {
   "cell_type": "markdown",
   "metadata": {},
   "source": [
    "#### 현재 활성화된 스트리밍 쿼리에 대한 확인 및 조회"
   ]
  },
  {
   "cell_type": "code",
   "execution_count": 10,
   "metadata": {},
   "outputs": [
    {
     "data": {
      "text/plain": [
       "[<pyspark.sql.streaming.StreamingQuery at 0x7f7d1fedf610>]"
      ]
     },
     "execution_count": 10,
     "metadata": {},
     "output_type": "execute_result"
    }
   ],
   "source": [
    "spark.streams.active  # get the list of currently active streaming queries\n",
    "\n",
    "# spark.streams.get(id)  # get a query object by its unique id\n",
    "\n",
    "# 라이브 어플리케이션의 경우는 백그라운드에서 항상 동작해야 하므로, 아래와 같이 어플리케이션이 종료될 때까지 대기하는 명령을 수행해야 합니다.\n",
    "# spark.streams.awaitAnyTermination()  # block until any one of them terminates"
   ]
  },
  {
   "cell_type": "code",
   "execution_count": 11,
   "metadata": {},
   "outputs": [
    {
     "data": {
      "text/plain": [
       "'[activity_counts] Iteration: 3, Score: 0.4339247963572942'"
      ]
     },
     "metadata": {},
     "output_type": "display_data"
    },
    {
     "name": "stdout",
     "output_type": "stream",
     "text": [
      "+----------+-----+\n",
      "|gt        |count|\n",
      "+----------+-----+\n",
      "|sit       |12309|\n",
      "|stand     |11384|\n",
      "|stairsdown|9365 |\n",
      "|walk      |13256|\n",
      "|stairsup  |10452|\n",
      "|null      |10449|\n",
      "|bike      |10796|\n",
      "+----------+-----+\n",
      "\n"
     ]
    }
   ],
   "source": [
    "displayStream(\"activity_counts\", \"select * from activity_counts\", 3, 1)"
   ]
  },
  {
   "cell_type": "code",
   "execution_count": 12,
   "metadata": {},
   "outputs": [
    {
     "data": {
      "text/plain": [
       "'[Counts of Activities] Iteration: 3, Score: 0.32484175874831367'"
      ]
     },
     "metadata": {},
     "output_type": "display_data"
    },
    {
     "name": "stdout",
     "output_type": "stream",
     "text": [
      "+----------+-----+\n",
      "|gt        |count|\n",
      "+----------+-----+\n",
      "|sit       |73855|\n",
      "|stand     |68309|\n",
      "|stairsdown|56192|\n",
      "|walk      |79536|\n",
      "|stairsup  |62710|\n",
      "|null      |62688|\n",
      "|bike      |64781|\n",
      "+----------+-----+\n",
      "\n"
     ]
    }
   ],
   "source": [
    "displayStream(\"Counts of Activities\", \"select * from activity_counts\", 3, 1)"
   ]
  },
  {
   "cell_type": "markdown",
   "metadata": {},
   "source": [
    "## 3. 스트리밍 변환 함수를 실습합니다"
   ]
  },
  {
   "cell_type": "code",
   "execution_count": 13,
   "metadata": {},
   "outputs": [],
   "source": [
    "simpleTransform = streaming.withColumn(\"stairs\", expr(\"gt like '%stairs%'\")) \\\n",
    "    .where(\"stairs\") \\\n",
    "    .where(\"gt is not null\") \\\n",
    "    .select(\"gt\", \"model\", \"arrival_time\", \"creation_time\") \\\n",
    "    .writeStream \\\n",
    "    .queryName(\"simple_transform\") \\\n",
    "    .format(\"memory\") \\\n",
    "    .outputMode(\"append\") \\\n",
    "    .start()"
   ]
  },
  {
   "cell_type": "code",
   "execution_count": 14,
   "metadata": {},
   "outputs": [
    {
     "data": {
      "text/plain": [
       "'[Counts of Activities] Iteration: 3, Score: 0.5816592986962856'"
      ]
     },
     "metadata": {},
     "output_type": "display_data"
    },
    {
     "name": "stdout",
     "output_type": "stream",
     "text": [
      "+--------+------+-------------+-------------------+\n",
      "|gt      |model |arrival_time |creation_time      |\n",
      "+--------+------+-------------+-------------------+\n",
      "|stairsup|nexus4|1424687983719|1424687981726802718|\n",
      "|stairsup|nexus4|1424687984000|1424687982009853255|\n",
      "|stairsup|nexus4|1424687984404|1424687982411977009|\n",
      "|stairsup|nexus4|1424687984805|1424687982814351277|\n",
      "|stairsup|nexus4|1424687985210|1424687983217500861|\n",
      "|stairsup|nexus4|1424687985620|1424687983620332892|\n",
      "|stairsup|nexus4|1424687986016|1424687984023164923|\n",
      "|stairsup|nexus4|1424687986420|1424687984425874884|\n",
      "|stairsup|nexus4|1424687986820|1424687984828822915|\n",
      "|stairsup|nexus4|1424687987225|1424687985231654946|\n",
      "|stairsup|nexus4|1424687987625|1424687985634469017|\n",
      "|stairsup|nexus4|1424687987992|1424687986002114280|\n",
      "|stairsup|nexus4|1424687988191|1424689834237427627|\n",
      "|stairsup|nexus4|1424687988392|1424689834438660537|\n",
      "|stairsup|nexus4|1424687988592|1424689834640076553|\n",
      "|stairsup|nexus4|1424687988794|1424689834841675674|\n",
      "|stairsup|nexus4|1424687988999|1424689835047943984|\n",
      "|stairsup|nexus4|1424687989200|1424687987205721701|\n",
      "|stairsup|nexus4|1424687989409|1424689835458070221|\n",
      "|stairsup|nexus4|1424687989606|1424687987613772238|\n",
      "+--------+------+-------------+-------------------+\n",
      "only showing top 20 rows\n",
      "\n"
     ]
    }
   ],
   "source": [
    "displayStream(\"Counts of Activities\", \"select * from simple_transform\", 3, 1)"
   ]
  },
  {
   "cell_type": "code",
   "execution_count": 15,
   "metadata": {},
   "outputs": [],
   "source": [
    "checkLastProgress(activityQuery)"
   ]
  },
  {
   "cell_type": "code",
   "execution_count": 16,
   "metadata": {},
   "outputs": [
    {
     "name": "stdout",
     "output_type": "stream",
     "text": [
      "+--------+----------------+-----------+\n",
      "|database|       tableName|isTemporary|\n",
      "+--------+----------------+-----------+\n",
      "|        | activity_counts|       true|\n",
      "|        |simple_transform|       true|\n",
      "+--------+----------------+-----------+\n",
      "\n"
     ]
    }
   ],
   "source": [
    "showTables()"
   ]
  },
  {
   "cell_type": "markdown",
   "metadata": {},
   "source": [
    "## 4. 여러 스트림을 조인하는 연산을 실습합니다"
   ]
  },
  {
   "cell_type": "code",
   "execution_count": 17,
   "metadata": {},
   "outputs": [],
   "source": [
    "# 아래와 같이 데이터소스를 처음에 읽어서 해당 데이터프레임을 만들어두면, 해당 스트림을 사용하면 파일을 처음부터 읽어서 테스트가 용이합니다\n",
    "deviceModelStats = None\n",
    "stopQueryIfStarted(deviceModelStats)\n",
    "historicalAgg = static.groupBy(\"gt\", \"model\").avg()\n",
    "deviceModelStats = streaming.drop(\"Arrival_Time\", \"Creation_Time\", \"Index\") \\\n",
    "    .cube(\"gt\", \"model\").avg() \\\n",
    "    .join(historicalAgg, [\"gt\", \"model\"]) \\\n",
    "    .writeStream \\\n",
    "    .queryName(\"device_counts\") \\\n",
    "    .format(\"memory\") \\\n",
    "    .outputMode(\"complete\") \\\n",
    "    .start()"
   ]
  },
  {
   "cell_type": "code",
   "execution_count": 18,
   "metadata": {},
   "outputs": [
    {
     "data": {
      "text/plain": [
       "'[device_counts] Iteration: 5, Score: 0.6048293125016144'"
      ]
     },
     "metadata": {},
     "output_type": "display_data"
    },
    {
     "name": "stdout",
     "output_type": "stream",
     "text": [
      "+----------+------+----------------------+---------------------+----------------------+---------------------+----------------------+------------------+----------------------+---------------------+----------------------+\n",
      "|gt        |model |avg(x)                |avg(y)               |avg(z)                |avg(Arrival_Time)    |avg(Creation_Time)    |avg(Index)        |avg(x)                |avg(y)               |avg(z)                |\n",
      "+----------+------+----------------------+---------------------+----------------------+---------------------+----------------------+------------------+----------------------+---------------------+----------------------+\n",
      "|bike      |nexus4|0.02351254447093369   |-0.01304747996973879 |-0.08360475809007031  |1.4247511339065625E12|1.42475212569564083E18|326469.69726045156|0.02333181232446801   |-0.009512011859706009|-0.08247843125455155  |\n",
      "|null      |nexus4|-0.0030250122150636423|-0.004107545014106613|0.005961452067049493  |1.4247490083833638E12|1.4247499258029568E18 |219266.85404184452|-0.007700653623437529 |-5.123981969813307E-4|0.004909264558223462  |\n",
      "|stairsdown|nexus4|0.028103791071500354  |-0.03570080351911375 |0.12203047970606543   |1.4247445941774346E12|1.42474550323996442E18|230454.06165641552|0.024966380359612676  |-0.03999310244221339 |0.1264683870755178    |\n",
      "|stand     |nexus4|-3.009898041373851E-4 |4.133303473120165E-4 |-2.8696019676741645E-5|1.4247436380840356E12|1.42474457958224205E18|31318.545494470745|-4.0175692240775236E-4|3.7576796228776775E-4|2.5584408182505094E-4 |\n",
      "|walk      |nexus4|0.0019703520863382654 |7.489666845955394E-5 |-0.001498283804284864 |1.4247464188454963E12|1.42474735088803866E18|149744.87743663247|-0.004053445528249098 |0.0037161044841415485|6.564245557875741E-4  |\n",
      "|sit       |nexus4|-4.92132825379802E-4  |3.757376157445781E-4 |-4.428633462507242E-5 |1.424741204827539E12 |1.42474210718173184E18|74566.66527196653 |-5.198415358621974E-4 |3.283084945492959E-4 |-1.5453756498110782E-4|\n",
      "|stairsup  |nexus4|-0.026233013188633858 |-0.0138593176529181  |-0.09395009728019488  |1.424745991277279E12 |1.42474691428071859E18|227918.3981113843 |-0.027207181817258584 |-0.009026830335978446|-0.09813314656756243  |\n",
      "+----------+------+----------------------+---------------------+----------------------+---------------------+----------------------+------------------+----------------------+---------------------+----------------------+\n",
      "\n"
     ]
    }
   ],
   "source": [
    "displayStream(\"device_counts\", \"select * from device_counts\", 5, 1)"
   ]
  },
  {
   "cell_type": "markdown",
   "metadata": {},
   "source": [
    "## 5. 이벤트 시간 기준의 텀블링 윈도우 처리 실습"
   ]
  },
  {
   "cell_type": "code",
   "execution_count": 19,
   "metadata": {},
   "outputs": [],
   "source": [
    "withEventTime = streaming.selectExpr(\"*\", \"cast(cast(Creation_Time as double)/1000000000 as timestamp) as event_time\")"
   ]
  },
  {
   "cell_type": "code",
   "execution_count": 20,
   "metadata": {},
   "outputs": [],
   "source": [
    "eventPerWindow = None\n",
    "stopQueryIfStarted(eventPerWindow)\n",
    "eventPerWindow = withEventTime.groupBy(window(col(\"event_time\"), \"10 minutes\")).count() \\\n",
    "     .writeStream \\\n",
    "     .queryName(\"pyevents_per_window\") \\\n",
    "     .format(\"memory\") \\\n",
    "     .outputMode(\"complete\") \\\n",
    "     .start()"
   ]
  },
  {
   "cell_type": "code",
   "execution_count": 21,
   "metadata": {},
   "outputs": [
    {
     "data": {
      "text/plain": [
       "'[pyevents_per_window] Iteration: 5, Score: 0.08150279462775711'"
      ]
     },
     "metadata": {},
     "output_type": "display_data"
    },
    {
     "name": "stdout",
     "output_type": "stream",
     "text": [
      "+------------------------------------------+-----+\n",
      "|window                                    |count|\n",
      "+------------------------------------------+-----+\n",
      "|[2015-02-24 20:50:00, 2015-02-24 21:00:00]|13159|\n",
      "|[2015-02-24 22:00:00, 2015-02-24 22:10:00]|11752|\n",
      "|[2015-02-23 21:30:00, 2015-02-23 21:40:00]|8799 |\n",
      "|[2015-02-23 19:20:00, 2015-02-23 19:30:00]|8660 |\n",
      "|[2015-02-24 21:30:00, 2015-02-24 21:40:00]|10975|\n",
      "|[2015-02-24 22:10:00, 2015-02-24 22:20:00]|9138 |\n",
      "|[2015-02-23 19:30:00, 2015-02-23 19:40:00]|8805 |\n",
      "|[2015-02-23 19:40:00, 2015-02-23 19:50:00]|7685 |\n",
      "|[2015-02-23 22:20:00, 2015-02-23 22:30:00]|9285 |\n",
      "|[2015-02-22 09:40:00, 2015-02-22 09:50:00]|3    |\n",
      "|[2015-02-24 20:20:00, 2015-02-24 20:30:00]|9914 |\n",
      "|[2015-02-24 21:20:00, 2015-02-24 21:30:00]|11632|\n",
      "|[2015-02-24 23:00:00, 2015-02-24 23:10:00]|13126|\n",
      "|[2015-02-24 23:10:00, 2015-02-24 23:20:00]|14686|\n",
      "|[2015-02-24 22:40:00, 2015-02-24 22:50:00]|11634|\n",
      "|[2015-02-24 22:50:00, 2015-02-24 23:00:00]|8458 |\n",
      "|[2015-02-23 23:30:00, 2015-02-23 23:40:00]|8250 |\n",
      "|[2015-02-23 22:40:00, 2015-02-23 22:50:00]|14554|\n",
      "|[2015-02-24 21:00:00, 2015-02-24 21:10:00]|17539|\n",
      "|[2015-02-23 21:20:00, 2015-02-23 21:30:00]|9345 |\n",
      "+------------------------------------------+-----+\n",
      "only showing top 20 rows\n",
      "\n"
     ]
    }
   ],
   "source": [
    "displayStream(\"pyevents_per_window\", \"select * from pyevents_per_window\", 5, 3)"
   ]
  },
  {
   "cell_type": "code",
   "execution_count": 22,
   "metadata": {},
   "outputs": [],
   "source": [
    "eventPerUserWindow = None\n",
    "stopQueryIfStarted(eventPerUserWindow)\n",
    "eventPerUserWindow = withEventTime.groupBy(window(col(\"event_time\"), \"10 minutes\"), \"User\").count() \\\n",
    "     .writeStream \\\n",
    "     .queryName(\"pyevents_per_user_window\") \\\n",
    "     .format(\"memory\") \\\n",
    "     .outputMode(\"complete\") \\\n",
    "     .start()"
   ]
  },
  {
   "cell_type": "code",
   "execution_count": 23,
   "metadata": {},
   "outputs": [
    {
     "data": {
      "text/plain": [
       "'[pyevents_per_user_window] Iteration: 5, Score: 0.562776291874881'"
      ]
     },
     "metadata": {},
     "output_type": "display_data"
    },
    {
     "name": "stdout",
     "output_type": "stream",
     "text": [
      "+------------------------------------------+----+-----+\n",
      "|window                                    |User|count|\n",
      "+------------------------------------------+----+-----+\n",
      "|[2015-02-23 19:50:00, 2015-02-23 20:00:00]|g   |8030 |\n",
      "|[2015-02-24 23:40:00, 2015-02-24 23:50:00]|e   |7484 |\n",
      "|[2015-02-24 23:00:00, 2015-02-24 23:10:00]|b   |7469 |\n",
      "|[2015-02-24 20:40:00, 2015-02-24 20:50:00]|i   |7299 |\n",
      "|[2015-02-24 21:20:00, 2015-02-24 21:30:00]|f   |6688 |\n",
      "+------------------------------------------+----+-----+\n",
      "\n"
     ]
    }
   ],
   "source": [
    "displayStream(\"pyevents_per_user_window\", \"select * from pyevents_per_user_window order by count desc limit 5\", 5, 1)"
   ]
  },
  {
   "cell_type": "code",
   "execution_count": 24,
   "metadata": {},
   "outputs": [
    {
     "name": "stdout",
     "output_type": "stream",
     "text": [
      "+-------------+-------------------+--------+-----+------+----+-----+-------------+-------------+------------+\n",
      "|Arrival_Time |Creation_Time      |Device  |Index|Model |User|gt   |x            |y            |z           |\n",
      "+-------------+-------------------+--------+-----+------+----+-----+-------------+-------------+------------+\n",
      "|1424686734992|1424688581040070924|nexus4_2|5    |nexus4|g   |stand|-3.814697E-4 |0.025878906  |0.023727417 |\n",
      "|1424686735190|1424688581245179566|nexus4_2|46   |nexus4|g   |stand|-0.008926392 |-0.047821045 |0.011978149 |\n",
      "|1424686735395|1424686733397706064|nexus4_1|79   |nexus4|g   |stand|3.356934E-4  |0.02507019   |-0.005996704|\n",
      "|1424686735593|1424688581647920045|nexus4_2|126  |nexus4|g   |stand|0.0038909912 |-0.0093688965|0.0023651123|\n",
      "|1424686735795|1424688581849427613|nexus4_2|166  |nexus4|g   |stand|0.0038909912 |-0.0050964355|0.01838684  |\n",
      "|1424686735998|1424686734002381357|nexus4_1|199  |nexus4|g   |stand|-0.0028686523|-5.645752E-4 |0.028182983 |\n",
      "|1424686736196|1424688582252229127|nexus4_2|246  |nexus4|g   |stand|-0.0046539307|0.031219482  |0.013046265 |\n",
      "|1424686736407|1424686734410523447|nexus4_1|280  |nexus4|g   |stand|0.0024719238 |0.004776001  |-0.013473511|\n",
      "|1424686736604|1424688582660310181|nexus4_2|327  |nexus4|g   |stand|-3.814697E-4 |-0.0018920898|-0.00831604 |\n",
      "|1424686736804|1424686734813145196|nexus4_1|359  |nexus4|g   |stand|-0.0039367676|0.0037078857 |0.019638062 |\n",
      "+-------------+-------------------+--------+-----+------+----+-----+-------------+-------------+------------+\n",
      "only showing top 10 rows\n",
      "\n"
     ]
    }
   ],
   "source": [
    "static.show(10, truncate=False)"
   ]
  },
  {
   "cell_type": "code",
   "execution_count": 25,
   "metadata": {},
   "outputs": [
    {
     "name": "stdout",
     "output_type": "stream",
     "text": [
      "+--------+----+-----+\n",
      "|  Device|User|count|\n",
      "+--------+----+-----+\n",
      "|nexus4_2|   e|49605|\n",
      "|nexus4_2|   i|46887|\n",
      "|nexus4_1|   f|46745|\n",
      "|nexus4_2|   g|46538|\n",
      "|nexus4_1|   e|46425|\n",
      "+--------+----+-----+\n",
      "\n"
     ]
    }
   ],
   "source": [
    "static.groupBy(\"Device\", \"User\").count().sort(desc(\"count\")).limit(5).show()"
   ]
  },
  {
   "cell_type": "code",
   "execution_count": 26,
   "metadata": {},
   "outputs": [],
   "source": [
    "userRank = None\n",
    "stopQueryIfStarted(userRank)\n",
    "\n",
    "# 해당 그룹 파티션 내에서 X, Y, Z 역순 정렬 후에, 유일한 번호를 매겨서 출력\n",
    "userRank = withEventTime \\\n",
    "    .withWatermark(\"event_time\", \"10 minutes\") \\\n",
    "    .groupBy(\"User\", window(col(\"event_time\"), \"10 minutes\")).count() \\\n",
    "    .writeStream \\\n",
    "    .queryName(\"user_rank\") \\\n",
    "    .format(\"memory\") \\\n",
    "    .outputMode(\"complete\") \\\n",
    "    .start()"
   ]
  },
  {
   "cell_type": "code",
   "execution_count": 27,
   "metadata": {},
   "outputs": [
    {
     "data": {
      "text/plain": [
       "'[user_rank] Iteration: 1, Score: 0.6162055657482368'"
      ]
     },
     "metadata": {},
     "output_type": "display_data"
    },
    {
     "name": "stdout",
     "output_type": "stream",
     "text": [
      "+----+------+-----+\n",
      "|User|window|count|\n",
      "+----+------+-----+\n",
      "+----+------+-----+\n",
      "\n"
     ]
    }
   ],
   "source": [
    "displayStream(\"user_rank\", \"select * from user_rank order by window desc, User, count desc\", 1, 1)"
   ]
  },
  {
   "cell_type": "markdown",
   "metadata": {},
   "source": [
    "## 5. 워터마크를 이용하여 1분 단위로 접속한 이용자의 수를 가지는 테이블을 구성하고 조회합니다"
   ]
  },
  {
   "cell_type": "code",
   "execution_count": 28,
   "metadata": {},
   "outputs": [
    {
     "name": "stdout",
     "output_type": "stream",
     "text": [
      "root\n",
      " |-- u_id: string (nullable = true)\n",
      " |-- u_name: string (nullable = true)\n",
      " |-- u_gender: string (nullable = true)\n",
      " |-- u_signup: string (nullable = true)\n",
      "\n",
      "+----+----------+--------+--------+\n",
      "|u_id|    u_name|u_gender|u_signup|\n",
      "+----+----------+--------+--------+\n",
      "|   1|    정휘센|      남|19580808|\n",
      "|   2|  김싸이언|      남|19590201|\n",
      "|   3|    박트롬|      여|19951030|\n",
      "|   4|    청소기|      남|19770329|\n",
      "|   5|유코드제로|      여|20021029|\n",
      "|   6|  윤디오스|      남|20040101|\n",
      "|   7|  임모바일|      남|20040807|\n",
      "|   8|  조노트북|      여|20161201|\n",
      "|   9|  최컴퓨터|      남|20201124|\n",
      "+----+----------+--------+--------+\n",
      "\n"
     ]
    }
   ],
   "source": [
    "df = spark.read.option(\"header\", \"true\").csv(\"data/tbl_user.csv\")\n",
    "df.printSchema()\n",
    "df.show()"
   ]
  },
  {
   "cell_type": "code",
   "execution_count": 29,
   "metadata": {},
   "outputs": [
    {
     "data": {
      "text/plain": [
       "[(Row(u_id='1', u_name='정휘센', u_gender='남', u_signup='19580808'), 0),\n",
       " (Row(u_id='2', u_name='김싸이언', u_gender='남', u_signup='19590201'), 1),\n",
       " (Row(u_id='3', u_name='박트롬', u_gender='여', u_signup='19951030'), 2),\n",
       " (Row(u_id='4', u_name='청소기', u_gender='남', u_signup='19770329'), 3),\n",
       " (Row(u_id='5', u_name='유코드제로', u_gender='여', u_signup='20021029'), 4),\n",
       " (Row(u_id='6', u_name='윤디오스', u_gender='남', u_signup='20040101'), 5),\n",
       " (Row(u_id='7', u_name='임모바일', u_gender='남', u_signup='20040807'), 6),\n",
       " (Row(u_id='8', u_name='조노트북', u_gender='여', u_signup='20161201'), 7),\n",
       " (Row(u_id='9', u_name='최컴퓨터', u_gender='남', u_signup='20201124'), 8)]"
      ]
     },
     "execution_count": 29,
     "metadata": {},
     "output_type": "execute_result"
    }
   ],
   "source": [
    "df.rdd.zipWithIndex().collect()"
   ]
  },
  {
   "cell_type": "code",
   "execution_count": 30,
   "metadata": {},
   "outputs": [
    {
     "name": "stdout",
     "output_type": "stream",
     "text": [
      "+----+----------+--------+--------+---+\n",
      "|u_id|    u_name|u_gender|u_signup| id|\n",
      "+----+----------+--------+--------+---+\n",
      "|   1|    정휘센|      남|19580808|  1|\n",
      "|   2|  김싸이언|      남|19590201|  2|\n",
      "|   3|    박트롬|      여|19951030|  3|\n",
      "|   4|    청소기|      남|19770329|  4|\n",
      "|   5|유코드제로|      여|20021029|  5|\n",
      "|   6|  윤디오스|      남|20040101|  6|\n",
      "|   7|  임모바일|      남|20040807|  7|\n",
      "|   8|  조노트북|      여|20161201|  8|\n",
      "|   9|  최컴퓨터|      남|20201124|  9|\n",
      "+----+----------+--------+--------+---+\n",
      "\n"
     ]
    }
   ],
   "source": [
    "df.withColumn(\"id\", monotonically_increasing_id() + 1).show()"
   ]
  },
  {
   "cell_type": "code",
   "execution_count": 31,
   "metadata": {},
   "outputs": [
    {
     "name": "stdout",
     "output_type": "stream",
     "text": [
      "+-----+\n",
      "|codes|\n",
      "+-----+\n",
      "|    a|\n",
      "|    b|\n",
      "+-----+\n",
      "\n"
     ]
    }
   ],
   "source": [
    "df = spark.sql(\"select 'a,b' as col1\")\n",
    "df2 = df.withColumn(\"codes\" , explode(split(\"col1\" , \",\"))).drop(\"col1\")\n",
    "df2.show()"
   ]
  },
  {
   "cell_type": "code",
   "execution_count": 32,
   "metadata": {},
   "outputs": [
    {
     "name": "stdout",
     "output_type": "stream",
     "text": [
      "root\n",
      " |-- firstname: string (nullable = true)\n",
      " |-- middlename: string (nullable = true)\n",
      " |-- lastname: string (nullable = true)\n",
      " |-- id: string (nullable = true)\n",
      " |-- gender: string (nullable = true)\n",
      " |-- salary: integer (nullable = true)\n",
      "\n",
      "+---------+----------+--------+-----+------+------+\n",
      "|firstname|middlename|lastname|id   |gender|salary|\n",
      "+---------+----------+--------+-----+------+------+\n",
      "|James    |          |Smith   |36636|M     |3000  |\n",
      "|Michael  |Rose      |        |40288|M     |4000  |\n",
      "|Robert   |          |Williams|42114|M     |4000  |\n",
      "|Maria    |Anne      |Jones   |39192|F     |4000  |\n",
      "|Jen      |Mary      |Brown   |     |F     |-1    |\n",
      "+---------+----------+--------+-----+------+------+\n",
      "\n"
     ]
    }
   ],
   "source": [
    "from pyspark.sql.types import StructType,StructField, StringType, IntegerType\n",
    "\n",
    "data = [(\"James\",\"\",\"Smith\",\"36636\",\"M\",3000),\n",
    "    (\"Michael\",\"Rose\",\"\",\"40288\",\"M\",4000),\n",
    "    (\"Robert\",\"\",\"Williams\",\"42114\",\"M\",4000),\n",
    "    (\"Maria\",\"Anne\",\"Jones\",\"39192\",\"F\",4000),\n",
    "    (\"Jen\",\"Mary\",\"Brown\",\"\",\"F\",-1)\n",
    "  ]\n",
    "\n",
    "schema = StructType([ \\\n",
    "    StructField(\"firstname\",StringType(),True), \\\n",
    "    StructField(\"middlename\",StringType(),True), \\\n",
    "    StructField(\"lastname\",StringType(),True), \\\n",
    "    StructField(\"id\", StringType(), True), \\\n",
    "    StructField(\"gender\", StringType(), True), \\\n",
    "    StructField(\"salary\", IntegerType(), True) \\\n",
    "  ])\n",
    " \n",
    "df = spark.createDataFrame(data=data,schema=schema)\n",
    "df.printSchema()\n",
    "df.show(truncate=False)"
   ]
  },
  {
   "cell_type": "code",
   "execution_count": 33,
   "metadata": {},
   "outputs": [
    {
     "name": "stdout",
     "output_type": "stream",
     "text": [
      "root\n",
      " |-- name: struct (nullable = true)\n",
      " |    |-- firstname: string (nullable = true)\n",
      " |    |-- middlename: string (nullable = true)\n",
      " |    |-- lastname: string (nullable = true)\n",
      " |-- id: string (nullable = true)\n",
      " |-- gender: string (nullable = true)\n",
      " |-- salary: integer (nullable = true)\n",
      "\n",
      "+--------------------+-----+------+------+\n",
      "|name                |id   |gender|salary|\n",
      "+--------------------+-----+------+------+\n",
      "|[James, , Smith]    |36636|M     |3100  |\n",
      "|[Michael, Rose, ]   |40288|M     |4300  |\n",
      "|[Robert, , Williams]|42114|M     |1400  |\n",
      "|[Maria, Anne, Jones]|39192|F     |5500  |\n",
      "|[Jen, Mary, Brown]  |     |F     |-1    |\n",
      "+--------------------+-----+------+------+\n",
      "\n"
     ]
    }
   ],
   "source": [
    "structureData = [\n",
    "    ((\"James\",\"\",\"Smith\"),\"36636\",\"M\",3100),\n",
    "    ((\"Michael\",\"Rose\",\"\"),\"40288\",\"M\",4300),\n",
    "    ((\"Robert\",\"\",\"Williams\"),\"42114\",\"M\",1400),\n",
    "    ((\"Maria\",\"Anne\",\"Jones\"),\"39192\",\"F\",5500),\n",
    "    ((\"Jen\",\"Mary\",\"Brown\"),\"\",\"F\",-1)\n",
    "  ]\n",
    "structureSchema = StructType([\n",
    "        StructField('name', StructType([\n",
    "             StructField('firstname', StringType(), True),\n",
    "             StructField('middlename', StringType(), True),\n",
    "             StructField('lastname', StringType(), True)\n",
    "             ])),\n",
    "         StructField('id', StringType(), True),\n",
    "         StructField('gender', StringType(), True),\n",
    "         StructField('salary', IntegerType(), True)\n",
    "         ])\n",
    "\n",
    "df2 = spark.createDataFrame(data=structureData,schema=structureSchema)\n",
    "df2.printSchema()\n",
    "df2.show(truncate=False)"
   ]
  },
  {
   "cell_type": "code",
   "execution_count": 34,
   "metadata": {},
   "outputs": [
    {
     "name": "stdout",
     "output_type": "stream",
     "text": [
      "+-------+----------+--------+\n",
      "|  first|middlename|lastname|\n",
      "+-------+----------+--------+\n",
      "|  James|          |   Smith|\n",
      "|Michael|      Rose|        |\n",
      "| Robert|          |Williams|\n",
      "|  Maria|      Anne|   Jones|\n",
      "|    Jen|      Mary|   Brown|\n",
      "+-------+----------+--------+\n",
      "\n"
     ]
    }
   ],
   "source": [
    "df2.selectExpr(\"name.firstname as first\", \"name.middlename\", \"name.lastname\").show()"
   ]
  },
  {
   "cell_type": "code",
   "execution_count": null,
   "metadata": {},
   "outputs": [],
   "source": []
  }
 ],
 "metadata": {
  "kernelspec": {
   "display_name": "Python 3",
   "language": "python",
   "name": "python3"
  },
  "language_info": {
   "codemirror_mode": {
    "name": "ipython",
    "version": 3
   },
   "file_extension": ".py",
   "mimetype": "text/x-python",
   "name": "python",
   "nbconvert_exporter": "python",
   "pygments_lexer": "ipython3",
   "version": "3.8.6"
  }
 },
 "nbformat": 4,
 "nbformat_minor": 4
}
